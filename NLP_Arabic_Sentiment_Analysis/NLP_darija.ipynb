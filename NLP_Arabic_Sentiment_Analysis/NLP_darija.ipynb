{
 "cells": [
  {
   "cell_type": "markdown",
   "id": "135d4cab",
   "metadata": {},
   "source": [
    "---\n",
    "#  Dependencies\n",
    "---\n"
   ]
  },
  {
   "cell_type": "code",
   "execution_count": 129,
   "id": "f9ef6a8c",
   "metadata": {},
   "outputs": [],
   "source": [
    "# uncomment to install tensorflow !!!\n",
    "#!pip install tensorflow"
   ]
  },
  {
   "cell_type": "code",
   "execution_count": 95,
   "id": "64111a6d",
   "metadata": {},
   "outputs": [],
   "source": [
    "import json\n",
    "import tensorflow as tf\n",
    "import pandas as pd\n",
    "import numpy as np\n",
    "import codecs\n",
    "\n",
    "from tensorflow.keras.preprocessing.text import Tokenizer\n",
    "from tensorflow.keras.preprocessing.sequence import pad_sequences\n",
    "from sklearn.preprocessing import OneHotEncoder\n",
    "from sklearn.preprocessing import LabelEncoder"
   ]
  },
  {
   "cell_type": "code",
   "execution_count": 60,
   "id": "1a8e9968",
   "metadata": {},
   "outputs": [],
   "source": [
    "vocab_size = 7753\n",
    "embedding_dim = 16\n",
    "max_length = 100\n",
    "trunc_type='post'\n",
    "padding_type='post'\n",
    "oov_tok = \"<OOV>\"\n",
    "training_size = 6700\n"
   ]
  },
  {
   "cell_type": "markdown",
   "id": "7f361959",
   "metadata": {},
   "source": [
    "---\n",
    "# Loading Data\n",
    "---"
   ]
  },
  {
   "cell_type": "code",
   "execution_count": 130,
   "id": "042e5152",
   "metadata": {
    "scrolled": true
   },
   "outputs": [],
   "source": [
    "# loading the data & dropping ID column\n",
    "\n",
    "df = pd.read_csv('Train.csv', encoding='utf-8')\n",
    "df = df.drop(['ID'], axis=1)"
   ]
  },
  {
   "cell_type": "code",
   "execution_count": 131,
   "id": "8f8245f8",
   "metadata": {},
   "outputs": [
    {
     "data": {
      "text/html": [
       "<div>\n",
       "<style scoped>\n",
       "    .dataframe tbody tr th:only-of-type {\n",
       "        vertical-align: middle;\n",
       "    }\n",
       "\n",
       "    .dataframe tbody tr th {\n",
       "        vertical-align: top;\n",
       "    }\n",
       "\n",
       "    .dataframe thead th {\n",
       "        text-align: right;\n",
       "    }\n",
       "</style>\n",
       "<table border=\"1\" class=\"dataframe\">\n",
       "  <thead>\n",
       "    <tr style=\"text-align: right;\">\n",
       "      <th></th>\n",
       "      <th>Feed</th>\n",
       "      <th>Sentiment</th>\n",
       "    </tr>\n",
       "  </thead>\n",
       "  <tbody>\n",
       "    <tr>\n",
       "      <th>0</th>\n",
       "      <td>m3alem bourjilia w illi ma yefehmouch yelzmou ...</td>\n",
       "      <td>Positive</td>\n",
       "    </tr>\n",
       "    <tr>\n",
       "      <th>1</th>\n",
       "      <td>Ya m3alllam</td>\n",
       "      <td>Positive</td>\n",
       "    </tr>\n",
       "    <tr>\n",
       "      <th>2</th>\n",
       "      <td>Ma7lek! Zin ou fannena 7loua.</td>\n",
       "      <td>Positive</td>\n",
       "    </tr>\n",
       "    <tr>\n",
       "      <th>3</th>\n",
       "      <td>hhhhh ya bliiiiiiiida ya Hanen</td>\n",
       "      <td>Negative</td>\n",
       "    </tr>\n",
       "    <tr>\n",
       "      <th>4</th>\n",
       "      <td>Nikraha w ma5yebha pffff</td>\n",
       "      <td>Negative</td>\n",
       "    </tr>\n",
       "    <tr>\n",
       "      <th>...</th>\n",
       "      <td>...</td>\n",
       "      <td>...</td>\n",
       "    </tr>\n",
       "    <tr>\n",
       "      <th>8396</th>\n",
       "      <td>نوفل ما يجيب كان المنح وخوف ملا زبالة منال عما...</td>\n",
       "      <td>Negative</td>\n",
       "    </tr>\n",
       "    <tr>\n",
       "      <th>8397</th>\n",
       "      <td>نسبة مشاهدة كبيرة رغم التشويش الى صار ...برافو...</td>\n",
       "      <td>Positive</td>\n",
       "    </tr>\n",
       "    <tr>\n",
       "      <th>8398</th>\n",
       "      <td>Mala ta7ana makyebha</td>\n",
       "      <td>Negative</td>\n",
       "    </tr>\n",
       "    <tr>\n",
       "      <th>8399</th>\n",
       "      <td>Tefah</td>\n",
       "      <td>Negative</td>\n",
       "    </tr>\n",
       "    <tr>\n",
       "      <th>8400</th>\n",
       "      <td>walah ka3ba le mamstk pfffff</td>\n",
       "      <td>Negative</td>\n",
       "    </tr>\n",
       "  </tbody>\n",
       "</table>\n",
       "<p>8401 rows × 2 columns</p>\n",
       "</div>"
      ],
      "text/plain": [
       "                                                   Feed Sentiment\n",
       "0     m3alem bourjilia w illi ma yefehmouch yelzmou ...  Positive\n",
       "1                                           Ya m3alllam  Positive\n",
       "2                         Ma7lek! Zin ou fannena 7loua.  Positive\n",
       "3                        hhhhh ya bliiiiiiiida ya Hanen  Negative\n",
       "4                              Nikraha w ma5yebha pffff  Negative\n",
       "...                                                 ...       ...\n",
       "8396  نوفل ما يجيب كان المنح وخوف ملا زبالة منال عما...  Negative\n",
       "8397  نسبة مشاهدة كبيرة رغم التشويش الى صار ...برافو...  Positive\n",
       "8398                               Mala ta7ana makyebha  Negative\n",
       "8399                                              Tefah  Negative\n",
       "8400                       walah ka3ba le mamstk pfffff  Negative\n",
       "\n",
       "[8401 rows x 2 columns]"
      ]
     },
     "execution_count": 131,
     "metadata": {},
     "output_type": "execute_result"
    }
   ],
   "source": [
    "df"
   ]
  },
  {
   "cell_type": "markdown",
   "id": "84b0bb8e",
   "metadata": {},
   "source": [
    "---\n",
    "# Data processing\n",
    "---"
   ]
  },
  {
   "cell_type": "code",
   "execution_count": 97,
   "id": "701cb7ae",
   "metadata": {},
   "outputs": [
    {
     "name": "stdout",
     "output_type": "stream",
     "text": [
      "['Positive' 'Positive' 'Positive' ... 'Negative' 'Negative' 'Negative']\n",
      "[1 1 1 ... 0 0 0]\n"
     ]
    }
   ],
   "source": [
    "sentences = []\n",
    "labels = []\n",
    "sentences = df['Feed'].astype(str)\n",
    "labels = df['Sentiment'].astype(str)\n",
    "values = np.array(labels)\n",
    "\n",
    "# Encoding labels  \n",
    "print(values)\n",
    "# integer encode\n",
    "label_encoder = LabelEncoder()\n",
    "labels = label_encoder.fit_transform(values)\n",
    "print(labels)"
   ]
  },
  {
   "cell_type": "code",
   "execution_count": 98,
   "id": "4926fd59",
   "metadata": {},
   "outputs": [],
   "source": [
    "#Splitting the data \n",
    "\n",
    "training_sentences = sentences[0:training_size]\n",
    "testing_sentences = sentences[training_size:]\n",
    "training_labels = labels[0:training_size]\n",
    "testing_labels = labels[training_size:]"
   ]
  },
  {
   "cell_type": "code",
   "execution_count": 80,
   "id": "ff2f4f07",
   "metadata": {},
   "outputs": [
    {
     "data": {
      "text/plain": [
       "['m3alem bourjilia w illi ma yefehmouch yelzmou..., 'Ya m3alllam', 'Ma7lek! Zin ou fannena 7loua.', 'hhhhh ya bliiiiiiiida ya Hanen', 'Nikraha w ma5yebha pffff', ..., 'ya ka7ba', 'نوفل ما يجيب كان المنح وخوف ملا زبالة منال عم..., 'نسبة مشاهدة كبيرة رغم التشويش الى صار ...براف..., 'Mala ta7ana makyebha', 'Tefah']\n",
       "Length: 7753\n",
       "Categories (7753, object): ['\\r', '\\r\\nMassottttttt\\r\\nArmasta=maset\\r\\nرجع.ااطح..., '\\r\\nمزين\\r\\nJa3four m3alem\\r\\nبرافووو وليد رب..., ' #bravo_balti\"', ..., '😡', '😢😢', '😢😢😢', '😭😥😦']"
      ]
     },
     "execution_count": 80,
     "metadata": {},
     "output_type": "execute_result"
    }
   ],
   "source": [
    "# vocab size\n",
    "\n",
    "pd.unique(pd.Series(pd.Categorical(sentences)))"
   ]
  },
  {
   "cell_type": "code",
   "execution_count": 99,
   "id": "4ff2b280",
   "metadata": {},
   "outputs": [],
   "source": [
    "# toknizing words \n",
    "tokenizer = Tokenizer(num_words=vocab_size, oov_token=oov_tok)\n",
    "tokenizer.fit_on_texts(training_sentences)\n",
    "\n",
    "word_index = tokenizer.word_index\n",
    "\n",
    "training_sequences = tokenizer.texts_to_sequences(training_sentences)\n",
    "training_padded = pad_sequences(training_sequences, maxlen=max_length, padding=padding_type, truncating=trunc_type)\n",
    "\n",
    "testing_sequences = tokenizer.texts_to_sequences(testing_sentences)\n",
    "testing_padded = pad_sequences(testing_sequences, maxlen=max_length, padding=padding_type, truncating=trunc_type)"
   ]
  },
  {
   "cell_type": "code",
   "execution_count": 100,
   "id": "324e4a59",
   "metadata": {},
   "outputs": [],
   "source": [
    "# Padding data \n",
    "\n",
    "training_padded = np.array(training_padded)\n",
    "training_labels = np.array(training_labels)\n",
    "testing_padded = np.array(testing_padded)\n",
    "testing_labels = np.array(testing_labels)"
   ]
  },
  {
   "cell_type": "markdown",
   "id": "eb2a094e",
   "metadata": {},
   "source": [
    "---\n",
    "# Creating Bidirectional LSTM Model\n",
    "---"
   ]
  },
  {
   "cell_type": "code",
   "execution_count": 121,
   "id": "ca4b8145",
   "metadata": {},
   "outputs": [],
   "source": [
    "#Creating the Bidirectional LSTM model\n",
    "\n",
    "model = tf.keras.Sequential([\n",
    "    tf.keras.layers.Embedding(vocab_size,64),\n",
    "    tf.keras.layers.Bidirectional(tf.keras.layers.LSTM(64, return_sequences=True)),\n",
    "    tf.keras.layers.Bidirectional(tf.keras.layers.LSTM(32)),\n",
    "    tf.keras.layers.Dense(64, activation='relu'),\n",
    "    tf.keras.layers.Dense(1, activation='sigmoid')\n",
    "])\n",
    "model.compile(loss='binary_crossentropy',optimizer='adam',metrics=['accuracy'])\n",
    "model.summary()"
   ]
  },
  {
   "cell_type": "code",
   "execution_count": 123,
   "id": "93e01ae4",
   "metadata": {},
   "outputs": [
    {
     "name": "stdout",
     "output_type": "stream",
     "text": [
      "Epoch 1/30\n",
      "210/210 - 46s - loss: 0.4439 - accuracy: 0.7661 - val_loss: 0.2946 - val_accuracy: 0.8677 - 46s/epoch - 217ms/step\n",
      "Epoch 2/30\n",
      "210/210 - 33s - loss: 0.1620 - accuracy: 0.9285 - val_loss: 0.2718 - val_accuracy: 0.8771 - 33s/epoch - 159ms/step\n",
      "Epoch 3/30\n",
      "210/210 - 34s - loss: 0.0961 - accuracy: 0.9516 - val_loss: 0.3347 - val_accuracy: 0.8607 - 34s/epoch - 162ms/step\n",
      "Epoch 4/30\n",
      "210/210 - 33s - loss: 0.0806 - accuracy: 0.9555 - val_loss: 0.3296 - val_accuracy: 0.8665 - 33s/epoch - 158ms/step\n",
      "Epoch 5/30\n",
      "210/210 - 33s - loss: 0.0736 - accuracy: 0.9603 - val_loss: 0.3806 - val_accuracy: 0.8583 - 33s/epoch - 157ms/step\n",
      "Epoch 6/30\n",
      "210/210 - 33s - loss: 0.0687 - accuracy: 0.9591 - val_loss: 0.4186 - val_accuracy: 0.8771 - 33s/epoch - 158ms/step\n",
      "Epoch 7/30\n",
      "210/210 - 34s - loss: 0.0757 - accuracy: 0.9607 - val_loss: 0.4443 - val_accuracy: 0.8730 - 34s/epoch - 161ms/step\n",
      "Epoch 8/30\n",
      "210/210 - 34s - loss: 0.0681 - accuracy: 0.9572 - val_loss: 0.3667 - val_accuracy: 0.8748 - 34s/epoch - 160ms/step\n",
      "Epoch 9/30\n",
      "210/210 - 33s - loss: 0.0635 - accuracy: 0.9613 - val_loss: 0.4525 - val_accuracy: 0.8730 - 33s/epoch - 158ms/step\n",
      "Epoch 10/30\n",
      "210/210 - 34s - loss: 0.0613 - accuracy: 0.9634 - val_loss: 0.5093 - val_accuracy: 0.8419 - 34s/epoch - 160ms/step\n",
      "Epoch 11/30\n",
      "210/210 - 34s - loss: 0.0623 - accuracy: 0.9619 - val_loss: 0.4533 - val_accuracy: 0.8754 - 34s/epoch - 160ms/step\n",
      "Epoch 12/30\n",
      "210/210 - 33s - loss: 0.0607 - accuracy: 0.9619 - val_loss: 0.5214 - val_accuracy: 0.8748 - 33s/epoch - 158ms/step\n",
      "Epoch 13/30\n",
      "210/210 - 34s - loss: 0.0590 - accuracy: 0.9642 - val_loss: 0.4893 - val_accuracy: 0.8736 - 34s/epoch - 160ms/step\n",
      "Epoch 14/30\n",
      "210/210 - 33s - loss: 0.0630 - accuracy: 0.9616 - val_loss: 0.4450 - val_accuracy: 0.8671 - 33s/epoch - 158ms/step\n",
      "Epoch 15/30\n",
      "210/210 - 33s - loss: 0.0595 - accuracy: 0.9627 - val_loss: 0.5009 - val_accuracy: 0.8730 - 33s/epoch - 158ms/step\n",
      "Epoch 16/30\n",
      "210/210 - 33s - loss: 0.0595 - accuracy: 0.9633 - val_loss: 0.4969 - val_accuracy: 0.8489 - 33s/epoch - 158ms/step\n",
      "Epoch 17/30\n",
      "210/210 - 33s - loss: 0.0606 - accuracy: 0.9646 - val_loss: 0.4875 - val_accuracy: 0.8530 - 33s/epoch - 158ms/step\n",
      "Epoch 18/30\n",
      "210/210 - 33s - loss: 0.0573 - accuracy: 0.9658 - val_loss: 0.5118 - val_accuracy: 0.8513 - 33s/epoch - 158ms/step\n",
      "Epoch 19/30\n",
      "210/210 - 33s - loss: 0.0545 - accuracy: 0.9655 - val_loss: 0.6046 - val_accuracy: 0.8530 - 33s/epoch - 157ms/step\n",
      "Epoch 20/30\n",
      "210/210 - 34s - loss: 0.0538 - accuracy: 0.9651 - val_loss: 0.6106 - val_accuracy: 0.8724 - 34s/epoch - 160ms/step\n",
      "Epoch 21/30\n",
      "210/210 - 33s - loss: 0.0522 - accuracy: 0.9661 - val_loss: 0.6571 - val_accuracy: 0.8695 - 33s/epoch - 158ms/step\n",
      "Epoch 22/30\n",
      "210/210 - 33s - loss: 0.0523 - accuracy: 0.9646 - val_loss: 0.7075 - val_accuracy: 0.8707 - 33s/epoch - 159ms/step\n",
      "Epoch 23/30\n",
      "210/210 - 33s - loss: 0.0520 - accuracy: 0.9682 - val_loss: 0.6440 - val_accuracy: 0.8519 - 33s/epoch - 158ms/step\n",
      "Epoch 24/30\n",
      "210/210 - 34s - loss: 0.0603 - accuracy: 0.9636 - val_loss: 0.5534 - val_accuracy: 0.8713 - 34s/epoch - 164ms/step\n",
      "Epoch 25/30\n",
      "210/210 - 34s - loss: 0.0599 - accuracy: 0.9634 - val_loss: 0.5352 - val_accuracy: 0.8630 - 34s/epoch - 163ms/step\n",
      "Epoch 26/30\n",
      "210/210 - 33s - loss: 0.0540 - accuracy: 0.9652 - val_loss: 0.6044 - val_accuracy: 0.8707 - 33s/epoch - 159ms/step\n",
      "Epoch 27/30\n",
      "210/210 - 33s - loss: 0.0534 - accuracy: 0.9655 - val_loss: 0.5726 - val_accuracy: 0.8742 - 33s/epoch - 159ms/step\n",
      "Epoch 28/30\n",
      "210/210 - 34s - loss: 0.0515 - accuracy: 0.9679 - val_loss: 0.6160 - val_accuracy: 0.8713 - 34s/epoch - 160ms/step\n",
      "Epoch 29/30\n",
      "210/210 - 33s - loss: 0.0511 - accuracy: 0.9670 - val_loss: 0.6348 - val_accuracy: 0.8718 - 33s/epoch - 159ms/step\n",
      "Epoch 30/30\n",
      "210/210 - 33s - loss: 0.0509 - accuracy: 0.9657 - val_loss: 0.7105 - val_accuracy: 0.8701 - 33s/epoch - 158ms/step\n"
     ]
    }
   ],
   "source": [
    "num_epochs = 30\n",
    "history = model.fit(training_padded, training_labels, epochs=num_epochs, validation_data=(testing_padded, testing_labels), verbose=2)"
   ]
  },
  {
   "cell_type": "markdown",
   "id": "bc0c6cc7",
   "metadata": {},
   "source": [
    "---\n",
    "# Ploting Bidirectional LSTM Model \n",
    "---"
   ]
  },
  {
   "cell_type": "code",
   "execution_count": 124,
   "id": "438077be",
   "metadata": {},
   "outputs": [
    {
     "data": {
      "image/png": "[encoded data removed]",
      "text/plain": [
       "<Figure size 432x288 with 1 Axes>"
      ]
     },
     "metadata": {
      "needs_background": "light"
     },
     "output_type": "display_data"
    },
    {
     "data": {
      "image/png": "[encoded data removed]",
      "text/plain": [
       "<Figure size 432x288 with 1 Axes>"
      ]
     },
     "metadata": {
      "needs_background": "light"
     },
     "output_type": "display_data"
    }
   ],
   "source": [
    "#Plotting LSTM model\n",
    "\n",
    "import matplotlib.pyplot as plt\n",
    "\n",
    "\n",
    "def plot_graphs(history, string):\n",
    "    plt.plot(history.history[string])\n",
    "    plt.plot(history.history['val_'+string])\n",
    "    plt.xlabel(\"Epochs\")\n",
    "    plt.ylabel(string)\n",
    "    plt.legend([string, 'val_'+string])\n",
    "    plt.show()\n",
    "  \n",
    "plot_graphs(history, \"accuracy\")\n",
    "plot_graphs(history, \"loss\")"
   ]
  },
  {
   "cell_type": "markdown",
   "id": "cb26517c",
   "metadata": {},
   "source": [
    "---\n",
    "# Creating Model 1\n",
    "---"
   ]
  },
  {
   "cell_type": "code",
   "execution_count": 132,
   "id": "117d4c45",
   "metadata": {},
   "outputs": [
    {
     "name": "stdout",
     "output_type": "stream",
     "text": [
      "Model: \"sequential_4\"\n",
      "_________________________________________________________________\n",
      " Layer (type)                Output Shape              Param #   \n",
      "=================================================================\n",
      " embedding_7 (Embedding)     (None, 100, 16)           124048    \n",
      "                                                                 \n",
      " global_average_pooling1d_2   (None, 16)               0         \n",
      " (GlobalAveragePooling1D)                                        \n",
      "                                                                 \n",
      " dense_8 (Dense)             (None, 24)                408       \n",
      "                                                                 \n",
      " dense_9 (Dense)             (None, 1)                 25        \n",
      "                                                                 \n",
      "=================================================================\n",
      "Total params: 124,481\n",
      "Trainable params: 124,481\n",
      "Non-trainable params: 0\n",
      "_________________________________________________________________\n"
     ]
    }
   ],
   "source": [
    "#Creating the simple model AKA model1\n",
    "model1 = tf.keras.Sequential([\n",
    "    tf.keras.layers.Embedding(vocab_size, embedding_dim, input_length=max_length),\n",
    "    tf.keras.layers.GlobalAveragePooling1D(),\n",
    "    tf.keras.layers.Dense(24, activation='relu'),\n",
    "    tf.keras.layers.Dense(1, activation='sigmoid')\n",
    "])\n",
    "model1.compile(loss='binary_crossentropy',optimizer='adam',metrics=['accuracy'])\n",
    "model1.summary()"
   ]
  },
  {
   "cell_type": "code",
   "execution_count": 133,
   "id": "35db23c3",
   "metadata": {},
   "outputs": [
    {
     "name": "stdout",
     "output_type": "stream",
     "text": [
      "Epoch 1/30\n",
      "210/210 - 2s - loss: 0.6892 - accuracy: 0.5334 - val_loss: 0.6853 - val_accuracy: 0.5473 - 2s/epoch - 7ms/step\n",
      "Epoch 2/30\n",
      "210/210 - 1s - loss: 0.6632 - accuracy: 0.6115 - val_loss: 0.6434 - val_accuracy: 0.7372 - 644ms/epoch - 3ms/step\n",
      "Epoch 3/30\n",
      "210/210 - 1s - loss: 0.5871 - accuracy: 0.7307 - val_loss: 0.5442 - val_accuracy: 0.7837 - 631ms/epoch - 3ms/step\n",
      "Epoch 4/30\n",
      "210/210 - 1s - loss: 0.4576 - accuracy: 0.8416 - val_loss: 0.4295 - val_accuracy: 0.8607 - 622ms/epoch - 3ms/step\n",
      "Epoch 5/30\n",
      "210/210 - 1s - loss: 0.3378 - accuracy: 0.9031 - val_loss: 0.3530 - val_accuracy: 0.8765 - 654ms/epoch - 3ms/step\n",
      "Epoch 6/30\n",
      "210/210 - 1s - loss: 0.2646 - accuracy: 0.9154 - val_loss: 0.3184 - val_accuracy: 0.8783 - 656ms/epoch - 3ms/step\n",
      "Epoch 7/30\n",
      "210/210 - 1s - loss: 0.2185 - accuracy: 0.9336 - val_loss: 0.2918 - val_accuracy: 0.8824 - 670ms/epoch - 3ms/step\n",
      "Epoch 8/30\n",
      "210/210 - 1s - loss: 0.1853 - accuracy: 0.9412 - val_loss: 0.2815 - val_accuracy: 0.8854 - 679ms/epoch - 3ms/step\n",
      "Epoch 9/30\n",
      "210/210 - 1s - loss: 0.1650 - accuracy: 0.9418 - val_loss: 0.2723 - val_accuracy: 0.8883 - 721ms/epoch - 3ms/step\n",
      "Epoch 10/30\n",
      "210/210 - 1s - loss: 0.1454 - accuracy: 0.9500 - val_loss: 0.2733 - val_accuracy: 0.8789 - 647ms/epoch - 3ms/step\n",
      "Epoch 11/30\n",
      "210/210 - 1s - loss: 0.1343 - accuracy: 0.9496 - val_loss: 0.2641 - val_accuracy: 0.8871 - 647ms/epoch - 3ms/step\n",
      "Epoch 12/30\n",
      "210/210 - 1s - loss: 0.1205 - accuracy: 0.9519 - val_loss: 0.2873 - val_accuracy: 0.8624 - 627ms/epoch - 3ms/step\n",
      "Epoch 13/30\n",
      "210/210 - 1s - loss: 0.1134 - accuracy: 0.9548 - val_loss: 0.2667 - val_accuracy: 0.8889 - 631ms/epoch - 3ms/step\n",
      "Epoch 14/30\n",
      "210/210 - 1s - loss: 0.1076 - accuracy: 0.9546 - val_loss: 0.2638 - val_accuracy: 0.8942 - 665ms/epoch - 3ms/step\n",
      "Epoch 15/30\n",
      "210/210 - 1s - loss: 0.1019 - accuracy: 0.9551 - val_loss: 0.2687 - val_accuracy: 0.8895 - 663ms/epoch - 3ms/step\n",
      "Epoch 16/30\n",
      "210/210 - 1s - loss: 0.0961 - accuracy: 0.9584 - val_loss: 0.2709 - val_accuracy: 0.8901 - 643ms/epoch - 3ms/step\n",
      "Epoch 17/30\n",
      "210/210 - 1s - loss: 0.0963 - accuracy: 0.9567 - val_loss: 0.3079 - val_accuracy: 0.8824 - 658ms/epoch - 3ms/step\n",
      "Epoch 18/30\n",
      "210/210 - 1s - loss: 0.0898 - accuracy: 0.9584 - val_loss: 0.2750 - val_accuracy: 0.8901 - 737ms/epoch - 4ms/step\n",
      "Epoch 19/30\n",
      "210/210 - 1s - loss: 0.0861 - accuracy: 0.9578 - val_loss: 0.2947 - val_accuracy: 0.8695 - 612ms/epoch - 3ms/step\n",
      "Epoch 20/30\n",
      "210/210 - 1s - loss: 0.0838 - accuracy: 0.9587 - val_loss: 0.2807 - val_accuracy: 0.8936 - 680ms/epoch - 3ms/step\n",
      "Epoch 21/30\n",
      "210/210 - 1s - loss: 0.0836 - accuracy: 0.9575 - val_loss: 0.2835 - val_accuracy: 0.8948 - 656ms/epoch - 3ms/step\n",
      "Epoch 22/30\n",
      "210/210 - 1s - loss: 0.0839 - accuracy: 0.9588 - val_loss: 0.2877 - val_accuracy: 0.8930 - 696ms/epoch - 3ms/step\n",
      "Epoch 23/30\n",
      "210/210 - 1s - loss: 0.0803 - accuracy: 0.9582 - val_loss: 0.2912 - val_accuracy: 0.8924 - 678ms/epoch - 3ms/step\n",
      "Epoch 24/30\n",
      "210/210 - 1s - loss: 0.0752 - accuracy: 0.9630 - val_loss: 0.2937 - val_accuracy: 0.8907 - 790ms/epoch - 4ms/step\n",
      "Epoch 25/30\n",
      "210/210 - 1s - loss: 0.0781 - accuracy: 0.9588 - val_loss: 0.3046 - val_accuracy: 0.8754 - 674ms/epoch - 3ms/step\n",
      "Epoch 26/30\n",
      "210/210 - 1s - loss: 0.0740 - accuracy: 0.9604 - val_loss: 0.3626 - val_accuracy: 0.8583 - 661ms/epoch - 3ms/step\n",
      "Epoch 27/30\n",
      "210/210 - 1s - loss: 0.0721 - accuracy: 0.9634 - val_loss: 0.3084 - val_accuracy: 0.8883 - 657ms/epoch - 3ms/step\n",
      "Epoch 28/30\n",
      "210/210 - 1s - loss: 0.0713 - accuracy: 0.9591 - val_loss: 0.3099 - val_accuracy: 0.8901 - 674ms/epoch - 3ms/step\n",
      "Epoch 29/30\n",
      "210/210 - 1s - loss: 0.0728 - accuracy: 0.9633 - val_loss: 0.3179 - val_accuracy: 0.8807 - 674ms/epoch - 3ms/step\n",
      "Epoch 30/30\n",
      "210/210 - 1s - loss: 0.0684 - accuracy: 0.9621 - val_loss: 0.3196 - val_accuracy: 0.8901 - 722ms/epoch - 3ms/step\n"
     ]
    }
   ],
   "source": [
    "num_epochs = 30\n",
    "history1 = model1.fit(training_padded, training_labels, epochs=num_epochs, validation_data=(testing_padded, testing_labels), verbose=2)"
   ]
  },
  {
   "cell_type": "markdown",
   "id": "265424ee",
   "metadata": {},
   "source": [
    "---\n",
    "# Ploting Model 1\n",
    "---"
   ]
  },
  {
   "cell_type": "code",
   "execution_count": 134,
   "id": "bf796d00",
   "metadata": {},
   "outputs": [
    {
     "data": {
      "image/png": "[encoded data removed]",
      "text/plain": [
       "<Figure size 432x288 with 1 Axes>"
      ]
     },
     "metadata": {
      "needs_background": "light"
     },
     "output_type": "display_data"
    },
    {
     "data": {
      "image/png": "[encoded data removed]",
      "text/plain": [
       "<Figure size 432x288 with 1 Axes>"
      ]
     },
     "metadata": {
      "needs_background": "light"
     },
     "output_type": "display_data"
    }
   ],
   "source": [
    "plot_graphs(history1, \"accuracy\")\n",
    "plot_graphs(history1, \"loss\")"
   ]
  },
  {
   "cell_type": "markdown",
   "id": "81555fa4",
   "metadata": {},
   "source": [
    "---\n",
    "# TEST\n",
    "---"
   ]
  },
  {
   "cell_type": "code",
   "execution_count": 128,
   "id": "ef4785f4",
   "metadata": {},
   "outputs": [
    {
     "name": "stdout",
     "output_type": "stream",
     "text": [
      "[[0.9900991]]\n"
     ]
    }
   ],
   "source": [
    "#TEST LSTM model \n",
    "## if the result near 1 is positive\n",
    "#### if the result near 0 is negative \n",
    "\n",
    "sentence = [\"حسن \"]\n",
    "sequences = tokenizer.texts_to_sequences(sentence)\n",
    "padded = pad_sequences(sequences, maxlen=max_length, padding=padding_type, truncating=trunc_type)\n",
    "print(model.predict(padded))\n"
   ]
  },
  {
   "cell_type": "code",
   "execution_count": 135,
   "id": "3cff3dc7",
   "metadata": {},
   "outputs": [
    {
     "name": "stdout",
     "output_type": "stream",
     "text": [
      "[[0.94768476]]\n"
     ]
    }
   ],
   "source": [
    "#TEST  model 1 aka simple model\n",
    "## if the result near 1 is positive\n",
    "#### if the result near 0 is negative \n",
    "\n",
    "sentence = [\"حسن \"]\n",
    "sequences = tokenizer.texts_to_sequences(sentence)\n",
    "padded = pad_sequences(sequences, maxlen=max_length, padding=padding_type, truncating=trunc_type)\n",
    "print(model1.predict(padded))\n"
   ]
  },
  {
   "cell_type": "code",
   "execution_count": null,
   "id": "a6217b3b",
   "metadata": {},
   "outputs": [],
   "source": []
  }
 ],
 "metadata": {
  "kernelspec": {
   "display_name": "Python 3 (ipykernel)",
   "language": "python",
   "name": "python3"
  },
  "language_info": {
   "codemirror_mode": {
    "name": "ipython",
    "version": 3
   },
   "file_extension": ".py",
   "mimetype": "text/x-python",
   "name": "python",
   "nbconvert_exporter": "python",
   "pygments_lexer": "ipython3",
   "version": "3.9.7"
  }
 },
 "nbformat": 4,
 "nbformat_minor": 5
}
